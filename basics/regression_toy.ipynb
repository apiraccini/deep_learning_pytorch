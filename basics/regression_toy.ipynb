{
  "cells": [
    {
      "cell_type": "markdown",
      "metadata": {
        "id": "PwLkTB6N3MUN"
      },
      "source": [
        "# Regression (Pytorch basics)"
      ]
    },
    {
      "cell_type": "markdown",
      "metadata": {
        "id": "W8ZK4_CP3XPs"
      },
      "source": [
        "## Setup"
      ]
    },
    {
      "cell_type": "code",
      "execution_count": 1,
      "metadata": {
        "colab": {
          "base_uri": "https://localhost:8080/"
        },
        "id": "R9CdA_5nuTBp",
        "outputId": "99a56c84-604c-4fb1-ddc5-4ee134daa03d"
      },
      "outputs": [
        {
          "data": {
            "text/plain": [
              "<torch._C.Generator at 0x7fa1221240d0>"
            ]
          },
          "execution_count": 1,
          "metadata": {},
          "output_type": "execute_result"
        }
      ],
      "source": [
        "%matplotlib inline\n",
        "\n",
        "from matplotlib import pyplot as plt\n",
        "import numpy as np\n",
        "\n",
        "import torch\n",
        "import torch.nn as nn\n",
        "import torch.nn.functional as F\n",
        "import torch.optim as optim\n",
        "\n",
        "torch.set_printoptions(edgeitems=2)\n",
        "torch.manual_seed(42)"
      ]
    },
    {
      "cell_type": "code",
      "execution_count": 2,
      "metadata": {
        "colab": {
          "base_uri": "https://localhost:8080/"
        },
        "id": "dtHmH-MXzWzZ",
        "outputId": "dcdc49ef-2272-4645-96a1-15ada11f63c0"
      },
      "outputs": [
        {
          "name": "stdout",
          "output_type": "stream",
          "text": [
            "shapes: x: torch.Size([]), y: torch.Size([3, 1])\n",
            "        z: torch.Size([1, 3]), a: torch.Size([2, 1, 1])\n",
            "\n",
            "x * y: torch.Size([3, 1])\n",
            "y * z: torch.Size([3, 3])\n",
            "y * z * a: torch.Size([2, 3, 3])\n"
          ]
        }
      ],
      "source": [
        "# tensors broadcasting\n",
        "\n",
        "x = torch.ones(())\n",
        "y = torch.ones(3,1)\n",
        "z = torch.ones(1,3)\n",
        "a = torch.ones(2, 1, 1)\n",
        "\n",
        "print(f\"shapes: x: {x.shape}, y: {y.shape}\")\n",
        "print(f\"        z: {z.shape}, a: {a.shape}\\n\")\n",
        "print(\"x * y:\", (x * y).shape)\n",
        "print(\"y * z:\", (y * z).shape)\n",
        "print(\"y * z * a:\", (y * z * a).shape)"
      ]
    },
    {
      "cell_type": "code",
      "execution_count": 3,
      "metadata": {
        "id": "_obDNf7rzJdm"
      },
      "outputs": [],
      "source": [
        "# simple regression data\n",
        "\n",
        "t_c = [0.5,  14.0, 15.0, 28.0, 11.0,  8.0,  3.0, -4.0,  6.0, 13.0, 21.0] # out\n",
        "t_u = [35.7, 55.9, 58.2, 81.9, 56.3, 48.9, 33.9, 21.8, 48.4, 60.4, 68.4] # in\n",
        "\n",
        "t_c = torch.tensor(t_c)\n",
        "t_u = torch.tensor(t_u)\n",
        "t_un = 0.1 * t_u # normalized"
      ]
    },
    {
      "cell_type": "code",
      "execution_count": 4,
      "metadata": {
        "colab": {
          "base_uri": "https://localhost:8080/",
          "height": 351
        },
        "id": "AnpgRPkeCv2d",
        "outputId": "b67a6e52-d30a-479d-ab01-05bcf929c46f"
      },
      "outputs": [
        {
          "data": {
            "text/plain": [
              "[<matplotlib.lines.Line2D at 0x7fa120fbe2d0>]"
            ]
          },
          "execution_count": 4,
          "metadata": {},
          "output_type": "execute_result"
        },
        {
          "data": {
            "image/png": "[encoded data removed]",
            "text/plain": [
              "<Figure size 576x360 with 1 Axes>"
            ]
          },
          "metadata": {
            "needs_background": "light"
          },
          "output_type": "display_data"
        }
      ],
      "source": [
        "fig = plt.figure(figsize=(8, 5))\n",
        "plt.xlabel(\"Temperature (°Fahrenheit)\")\n",
        "plt.ylabel(\"Temperature (°Celsius)\")\n",
        "plt.plot(t_u.numpy(), t_c.numpy(), 'o')"
      ]
    },
    {
      "cell_type": "code",
      "execution_count": 5,
      "metadata": {
        "id": "c9LGAtNdz0oA"
      },
      "outputs": [],
      "source": [
        "# model and loss function\n",
        "\n",
        "def model(t_u, w, b):\n",
        "    return w * t_u + b\n",
        "    \n",
        "def loss_fn(t_p, t_c):\n",
        "    squared_diffs = (t_p - t_c)**2\n",
        "    return squared_diffs.mean()"
      ]
    },
    {
      "cell_type": "markdown",
      "metadata": {
        "id": "pB-UJ_nM3Zio"
      },
      "source": [
        "## Autograd"
      ]
    },
    {
      "cell_type": "code",
      "execution_count": 6,
      "metadata": {
        "id": "R7kNdtjQ0Dy2"
      },
      "outputs": [],
      "source": [
        "# accumulates the gradient relative to params for every step involving them\n",
        "# in a forward graph\n",
        "params = torch.tensor([0.0, 1.0], requires_grad=True) "
      ]
    },
    {
      "cell_type": "code",
      "execution_count": 7,
      "metadata": {
        "colab": {
          "base_uri": "https://localhost:8080/"
        },
        "id": "xhMk97J01QQt",
        "outputId": "131778a4-08ea-420e-c8ea-be04660d2e4d"
      },
      "outputs": [
        {
          "name": "stdout",
          "output_type": "stream",
          "text": [
            "True\n",
            "tensor([-1260.7000,   -19.0000])\n"
          ]
        }
      ],
      "source": [
        "# example\n",
        "\n",
        "# grad is empty now\n",
        "print(params.grad is None)\n",
        "\n",
        "# calculate loss\n",
        "loss = loss_fn(model(t_u, *params), t_c)\n",
        "\n",
        "# calculate gradient for params based on loss\n",
        "loss.backward()\n",
        "\n",
        "print(params.grad)\n",
        "\n",
        "# since it's accumulated and not assigned each time, \n",
        "# it must be set to zero afterwards!\n",
        "if params.grad is not None:\n",
        "    params.grad.zero_()"
      ]
    },
    {
      "cell_type": "markdown",
      "metadata": {
        "id": "neC1_M4l3inf"
      },
      "source": [
        "## Optimizers"
      ]
    },
    {
      "cell_type": "code",
      "execution_count": 8,
      "metadata": {
        "colab": {
          "base_uri": "https://localhost:8080/"
        },
        "id": "MOsNp3cX1stL",
        "outputId": "bcd85179-1411-441e-8d56-a81a49e5cfaf"
      },
      "outputs": [
        {
          "data": {
            "text/plain": [
              "['ASGD',\n",
              " 'Adadelta',\n",
              " 'Adagrad',\n",
              " 'Adam',\n",
              " 'AdamW',\n",
              " 'Adamax',\n",
              " 'LBFGS',\n",
              " 'NAdam',\n",
              " 'Optimizer',\n",
              " 'RAdam',\n",
              " 'RMSprop',\n",
              " 'Rprop',\n",
              " 'SGD',\n",
              " 'SparseAdam']"
            ]
          },
          "execution_count": 8,
          "metadata": {},
          "output_type": "execute_result"
        }
      ],
      "source": [
        "# optimizers do the update according to different strategies\n",
        "# like plain GD, SGD, ore using adaptive learning rates (Adam)\n",
        "[op for op in dir(optim) if op[0].isupper()]"
      ]
    },
    {
      "cell_type": "code",
      "execution_count": 9,
      "metadata": {
        "colab": {
          "base_uri": "https://localhost:8080/"
        },
        "id": "khsQ4gX62MZF",
        "outputId": "7a6e6890-9d4c-44dc-db4a-0eb4fe6b9138"
      },
      "outputs": [
        {
          "name": "stdout",
          "output_type": "stream",
          "text": [
            "tensor([1.0100, 0.0100], requires_grad=True)\n"
          ]
        }
      ],
      "source": [
        "# example\n",
        "\n",
        "# setup\n",
        "params = torch.tensor([1.0, 0.0], requires_grad=True)\n",
        "learning_rate = 1e-2\n",
        "optimizer = optim.Adam([params], lr=learning_rate)\n",
        "\n",
        "# single iteration\n",
        "t_p = model(t_un, *params) # calculate model predictions for current params\n",
        "loss = loss_fn(t_p, t_c) # calculate loss\n",
        "\n",
        "optimizer.zero_grad() # set gradient to zero\n",
        "loss.backward() # calculate new gradient based on loss\n",
        "optimizer.step() # update params\n",
        "\n",
        "print(params)"
      ]
    },
    {
      "cell_type": "markdown",
      "metadata": {
        "id": "0PUBK8Uu3xhy"
      },
      "source": [
        "## Training loops"
      ]
    },
    {
      "cell_type": "markdown",
      "metadata": {
        "id": "2jeKf1lZCD0U"
      },
      "source": [
        "### basic"
      ]
    },
    {
      "cell_type": "code",
      "execution_count": 10,
      "metadata": {
        "id": "WzovWnw_3ywU"
      },
      "outputs": [],
      "source": [
        "# simple training loop\n",
        "\n",
        "def training_loop(n_epochs, optimizer, params, t_u, t_c):\n",
        "    for epoch in range(1, n_epochs + 1):\n",
        "\n",
        "        t_p = model(t_u, *params)\n",
        "        loss = loss_fn(t_p, t_c) \n",
        "        \n",
        "        optimizer.zero_grad() \n",
        "        loss.backward() \n",
        "        optimizer.step()\n",
        "\n",
        "        if epoch % 500 == 0:\n",
        "            print(f'Epoch {epoch}, Loss {loss:.4f}')\n",
        "            \n",
        "    return params"
      ]
    },
    {
      "cell_type": "code",
      "execution_count": 11,
      "metadata": {
        "colab": {
          "base_uri": "https://localhost:8080/"
        },
        "id": "nRjfp7o14ck6",
        "outputId": "ad8d0344-bf69-4872-858d-a24aa2370bb0"
      },
      "outputs": [
        {
          "name": "stdout",
          "output_type": "stream",
          "text": [
            "Epoch 500, Loss 7.6129\n",
            "Epoch 1000, Loss 3.0867\n",
            "Epoch 1500, Loss 2.9286\n",
            "Epoch 2000, Loss 2.9276\n"
          ]
        },
        {
          "data": {
            "text/plain": [
              "tensor([  0.5367, -17.3021], requires_grad=True)"
            ]
          },
          "execution_count": 11,
          "metadata": {},
          "output_type": "execute_result"
        }
      ],
      "source": [
        "# training\n",
        "\n",
        "params = torch.tensor([1.0, 0.0], requires_grad=True)\n",
        "learning_rate = 1e-1\n",
        "optimizer = optim.Adam([params], lr=learning_rate)\n",
        "\n",
        "training_loop(\n",
        "    n_epochs = 2000, \n",
        "    optimizer = optimizer,\n",
        "    params = params,\n",
        "    t_u = t_u,  \n",
        "    t_c = t_c)"
      ]
    },
    {
      "cell_type": "markdown",
      "metadata": {
        "id": "D-NImOeUCFpD"
      },
      "source": [
        "### with validation set"
      ]
    },
    {
      "cell_type": "code",
      "execution_count": 12,
      "metadata": {
        "id": "t_L65huI5ZMk"
      },
      "outputs": [],
      "source": [
        "# always use a validation set!\n",
        "\n",
        "# train and valid indices\n",
        "n_samples = t_u.shape[0]\n",
        "n_val = int(0.2 * n_samples)\n",
        "\n",
        "shuffled_indices = torch.randperm(n_samples)\n",
        "\n",
        "train_indices = shuffled_indices[:-n_val]\n",
        "val_indices = shuffled_indices[-n_val:]\n",
        "\n",
        "train_indices, val_indices\n",
        "\n",
        "# data splitting\n",
        "train_t_u = t_u[train_indices]\n",
        "train_t_c = t_c[train_indices]\n",
        "\n",
        "val_t_u = t_u[val_indices]\n",
        "val_t_c = t_c[val_indices]\n",
        "\n",
        "train_t_un = 0.1 * train_t_u\n",
        "val_t_un = 0.1 * val_t_u"
      ]
    },
    {
      "cell_type": "code",
      "execution_count": 13,
      "metadata": {
        "id": "q1LtGtuZ5xgU"
      },
      "outputs": [],
      "source": [
        "# training loop\n",
        "\n",
        "# we calculate val preds and loss with torch.no_grad()\n",
        "# in order to save time: we avoid saving the computation graph\n",
        "# since we only use backpropagation on train_loss\n",
        "\n",
        "def training_loop(n_epochs, optimizer, params,\n",
        "                  train_t_u, val_t_u, train_t_c, val_t_c):\n",
        "    \n",
        "    for epoch in range(1, n_epochs + 1):\n",
        "\n",
        "        train_t_p = model(train_t_u, *params)\n",
        "        train_loss = loss_fn(train_t_p, train_t_c)\n",
        "\n",
        "        with torch.no_grad():\n",
        "            val_t_p = model(val_t_u, *params)\n",
        "            val_loss = loss_fn(val_t_p, val_t_c)\n",
        "            assert val_loss.requires_grad == False\n",
        "            \n",
        "        optimizer.zero_grad()\n",
        "        train_loss.backward()\n",
        "        optimizer.step()\n",
        "\n",
        "        if epoch <= 3 or epoch % 500 == 0:\n",
        "            print(f\"Epoch {epoch}, Training loss {train_loss.item():.4f},\"\n",
        "                  f\" Validation loss {val_loss.item():.4f}\")\n",
        "\n",
        "    return params"
      ]
    },
    {
      "cell_type": "code",
      "execution_count": 14,
      "metadata": {
        "colab": {
          "base_uri": "https://localhost:8080/"
        },
        "id": "JHyvIyPY6Yec",
        "outputId": "520c4994-e5e2-4680-c23c-eaa858647f28"
      },
      "outputs": [
        {
          "name": "stdout",
          "output_type": "stream",
          "text": [
            "Epoch 1, Training loss 93.9443, Validation loss 19.2545\n",
            "Epoch 2, Training loss 43.2299, Validation loss 0.7752\n",
            "Epoch 3, Training loss 35.5362, Validation loss 4.8714\n",
            "Epoch 500, Training loss 7.1039, Validation loss 5.2108\n",
            "Epoch 1000, Training loss 3.5098, Validation loss 3.8908\n",
            "Epoch 1500, Training loss 3.0399, Validation loss 3.5031\n",
            "Epoch 2000, Training loss 2.9784, Validation loss 3.3746\n",
            "Epoch 2500, Training loss 2.9704, Validation loss 3.3296\n",
            "Epoch 3000, Training loss 2.9693, Validation loss 3.3136\n"
          ]
        },
        {
          "data": {
            "text/plain": [
              "tensor([  5.3838, -17.0660], requires_grad=True)"
            ]
          },
          "execution_count": 14,
          "metadata": {},
          "output_type": "execute_result"
        }
      ],
      "source": [
        "# training\n",
        "\n",
        "params = torch.tensor([1.0, 0.0], requires_grad=True)\n",
        "learning_rate = 1e-2\n",
        "optimizer = optim.SGD([params], lr=learning_rate)\n",
        "\n",
        "training_loop(\n",
        "    n_epochs = 3000, \n",
        "    optimizer = optimizer,\n",
        "    params = params,\n",
        "    train_t_u = train_t_un,\n",
        "    val_t_u = val_t_un, \n",
        "    train_t_c = train_t_c,\n",
        "    val_t_c = val_t_c)"
      ]
    },
    {
      "cell_type": "code",
      "execution_count": 15,
      "metadata": {
        "colab": {
          "base_uri": "https://localhost:8080/",
          "height": 351
        },
        "id": "OIRPo8XuChdz",
        "outputId": "b8bcafd5-2e9b-453a-fb96-45d39af3f8fc"
      },
      "outputs": [
        {
          "data": {
            "text/plain": [
              "[<matplotlib.lines.Line2D at 0x7fa120a54f50>]"
            ]
          },
          "execution_count": 15,
          "metadata": {},
          "output_type": "execute_result"
        },
        {
          "data": {
            "image/png": "[encoded data removed]",
            "text/plain": [
              "<Figure size 576x360 with 1 Axes>"
            ]
          },
          "metadata": {
            "needs_background": "light"
          },
          "output_type": "display_data"
        }
      ],
      "source": [
        "# visualize predictions\n",
        "\n",
        "t_p = model(t_un, *params)\n",
        "\n",
        "fig = plt.figure(figsize=(8,5))\n",
        "plt.xlabel(\"Temperature (°Fahrenheit)\")\n",
        "plt.ylabel(\"Temperature (°Celsius)\")\n",
        "plt.plot(t_u.numpy(), t_p.detach().numpy())\n",
        "#plt.plot(t_u.numpy(), t_p.detach().numpy(), 'o')\n",
        "plt.plot(t_u.numpy(), t_c.numpy(), 'o') "
      ]
    },
    {
      "cell_type": "markdown",
      "metadata": {
        "id": "CoE7PWoQO9YL"
      },
      "source": [
        "## Now use the torch.nn module!"
      ]
    },
    {
      "cell_type": "code",
      "execution_count": 16,
      "metadata": {
        "colab": {
          "base_uri": "https://localhost:8080/"
        },
        "id": "e6NSM8pZPQyo",
        "outputId": "983fc295-d3af-4d38-a0df-000688e62a8a"
      },
      "outputs": [
        {
          "name": "stdout",
          "output_type": "stream",
          "text": [
            "Input shape: torch.Size([11, 1])\n"
          ]
        }
      ],
      "source": [
        "# preprare data\n",
        "\n",
        "# put data into tensors\n",
        "t_c = [0.5,  14.0, 15.0, 28.0, 11.0,  8.0,  3.0, -4.0,  6.0, 13.0, 21.0]\n",
        "t_u = [35.7, 55.9, 58.2, 81.9, 56.3, 48.9, 33.9, 21.8, 48.4, 60.4, 68.4]\n",
        "t_c = torch.tensor(t_c).unsqueeze(1) # B x Nin\n",
        "t_u = torch.tensor(t_u).unsqueeze(1)\n",
        "print(f'Input shape: {t_u.shape}')\n",
        "\n",
        "# train and validation indices\n",
        "n_samples = t_u.shape[0]\n",
        "n_val = int(0.2 * n_samples)\n",
        "\n",
        "shuffled_indices = torch.randperm(n_samples)\n",
        "\n",
        "train_indices = shuffled_indices[:-n_val]\n",
        "val_indices = shuffled_indices[-n_val:]\n",
        "\n",
        "# data splitting\n",
        "t_u_train = t_u[train_indices]\n",
        "t_c_train = t_c[train_indices]\n",
        "\n",
        "t_u_val = t_u[val_indices]\n",
        "t_c_val = t_c[val_indices]\n",
        "\n",
        "t_un_train = 0.1 * t_u_train\n",
        "t_un_val = 0.1 * t_u_val"
      ]
    },
    {
      "cell_type": "code",
      "execution_count": 17,
      "metadata": {
        "colab": {
          "base_uri": "https://localhost:8080/"
        },
        "id": "aLqQZBD8O8_n",
        "outputId": "51321776-576f-413e-80ee-44367fafa2ff"
      },
      "outputs": [
        {
          "data": {
            "text/plain": [
              "Sequential(\n",
              "  (0): Linear(in_features=1, out_features=13, bias=True)\n",
              "  (1): Tanh()\n",
              "  (2): Linear(in_features=13, out_features=1, bias=True)\n",
              ")"
            ]
          },
          "execution_count": 17,
          "metadata": {},
          "output_type": "execute_result"
        }
      ],
      "source": [
        "# define model\n",
        "seq_model = nn.Sequential(\n",
        "            nn.Linear(1, 13),\n",
        "            nn.Tanh(),\n",
        "            nn.Linear(13, 1))\n",
        "seq_model"
      ]
    },
    {
      "cell_type": "code",
      "execution_count": 18,
      "metadata": {
        "colab": {
          "base_uri": "https://localhost:8080/"
        },
        "id": "vDBqfuxHC77I",
        "outputId": "528e3851-bdb3-4bb7-8bc8-041a09500e73"
      },
      "outputs": [
        {
          "name": "stdout",
          "output_type": "stream",
          "text": [
            "0.weight torch.Size([13, 1])\n",
            "0.bias torch.Size([13])\n",
            "2.weight torch.Size([1, 13])\n",
            "2.bias torch.Size([1])\n"
          ]
        }
      ],
      "source": [
        "# print parameters\n",
        "for name, param in seq_model.named_parameters():\n",
        "    print(name, param.shape)"
      ]
    },
    {
      "cell_type": "code",
      "execution_count": 19,
      "metadata": {
        "id": "lcM6B7yWRGF1"
      },
      "outputs": [],
      "source": [
        "# training loop\n",
        "\n",
        "def training_loop(n_epochs, model, loss_fn, optimizer,\n",
        "                  train_x, train_y, val_x, val_y):\n",
        "    \n",
        "    for epoch in range(1, n_epochs + 1):\n",
        "\n",
        "        train_pred = model(train_x)\n",
        "        train_loss = loss_fn(train_pred, train_y)\n",
        "\n",
        "        with torch.no_grad():\n",
        "            val_pred = model(val_x)\n",
        "            val_loss = loss_fn(val_pred, val_y)\n",
        "            assert val_loss.requires_grad == False\n",
        "            \n",
        "        optimizer.zero_grad()\n",
        "        train_loss.backward()\n",
        "        optimizer.step()\n",
        "\n",
        "        if epoch <= 3 or epoch % 250 == 0:\n",
        "            print(f\"Epoch {epoch}, Training loss {train_loss.item():.4f},\"\n",
        "                  f\" Validation loss {val_loss.item():.4f}\")"
      ]
    },
    {
      "cell_type": "code",
      "execution_count": 20,
      "metadata": {
        "colab": {
          "base_uri": "https://localhost:8080/"
        },
        "id": "tYXa1R30QcAu",
        "outputId": "ef8d4d51-d77c-40c1-b85b-a4bf828e94a8"
      },
      "outputs": [
        {
          "name": "stdout",
          "output_type": "stream",
          "text": [
            "Epoch 1, Training loss 216.6446, Validation loss 69.4006\n",
            "Epoch 2, Training loss 209.2095, Validation loss 66.9960\n",
            "Epoch 3, Training loss 202.1111, Validation loss 64.7877\n",
            "Epoch 250, Training loss 37.9672, Validation loss 36.6048\n",
            "Epoch 500, Training loss 12.5236, Validation loss 3.7477\n",
            "Epoch 750, Training loss 6.0512, Validation loss 3.7762\n",
            "Epoch 1000, Training loss 4.5214, Validation loss 4.7633\n",
            "Epoch 1250, Training loss 7.5940, Validation loss 2.7156\n",
            "Epoch 1500, Training loss 5.9861, Validation loss 2.2367\n",
            "Epoch 1750, Training loss 5.3972, Validation loss 1.5552\n",
            "Epoch 2000, Training loss 4.9023, Validation loss 0.9689\n",
            "Epoch 2250, Training loss 4.3720, Validation loss 0.5543\n",
            "Epoch 2500, Training loss 3.8557, Validation loss 0.3292\n",
            "Epoch 2750, Training loss 3.4284, Validation loss 0.2463\n",
            "Epoch 3000, Training loss 3.1031, Validation loss 0.2510\n"
          ]
        }
      ],
      "source": [
        "# training\n",
        "training_loop(\n",
        "    n_epochs = 3000, \n",
        "    model = seq_model, # use nn model\n",
        "    loss_fn = nn.MSELoss(), # use nn loss funtion\n",
        "    optimizer = optim.SGD(seq_model.parameters(), lr=1e-3),\n",
        "    train_x = t_un_train, \n",
        "    train_y = t_c_train,\n",
        "    val_x = t_un_val,\n",
        "    val_y = t_c_val)"
      ]
    },
    {
      "cell_type": "code",
      "execution_count": 21,
      "metadata": {
        "colab": {
          "base_uri": "https://localhost:8080/",
          "height": 351
        },
        "id": "tRqULEAOSueu",
        "outputId": "4856967a-3914-486c-b424-34c29fb3ee22"
      },
      "outputs": [
        {
          "data": {
            "text/plain": [
              "[<matplotlib.lines.Line2D at 0x7fa1209f3dd0>]"
            ]
          },
          "execution_count": 21,
          "metadata": {},
          "output_type": "execute_result"
        },
        {
          "data": {
            "image/png": "[encoded data removed]",
            "text/plain": [
              "<Figure size 576x360 with 1 Axes>"
            ]
          },
          "metadata": {
            "needs_background": "light"
          },
          "output_type": "display_data"
        }
      ],
      "source": [
        "t_range = torch.arange(20., 90.).unsqueeze(1)\n",
        "\n",
        "fig = plt.figure(figsize=(8,5))\n",
        "plt.xlabel(\"Fahrenheit\")\n",
        "plt.ylabel(\"Celsius\")\n",
        "plt.plot(t_u.numpy(), t_c.numpy(), 'o')\n",
        "plt.plot(t_range.numpy(), seq_model(0.1 * t_range).detach().numpy(), 'c-')\n",
        "plt.plot(t_u.numpy(), seq_model(0.1 * t_u).detach().numpy(), 'kx')"
      ]
    },
    {
      "cell_type": "code",
      "execution_count": 21,
      "metadata": {
        "id": "gyiej-TWTZKI"
      },
      "outputs": [],
      "source": []
    }
  ],
  "metadata": {
    "colab": {
      "collapsed_sections": [],
      "provenance": []
    },
    "kernelspec": {
      "display_name": "Python 3.10.5 64-bit",
      "language": "python",
      "name": "python3"
    },
    "language_info": {
      "name": "python",
      "version": "3.10.5"
    },
    "vscode": {
      "interpreter": {
        "hash": "369f2c481f4da34e4445cda3fffd2e751bd1c4d706f27375911949ba6bb62e1c"
      }
    }
  },
  "nbformat": 4,
  "nbformat_minor": 0
}
