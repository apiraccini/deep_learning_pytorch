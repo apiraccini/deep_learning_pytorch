{
  "cells": [
    {
      "cell_type": "code",
      "execution_count": 1,
      "metadata": {
        "colab": {
          "base_uri": "https://localhost:8080/"
        },
        "id": "8RTNKPVFWOHu",
        "outputId": "bb0464dc-48c7-4590-e61d-875d894c6c9d"
      },
      "outputs": [
        {
          "data": {
            "text/plain": [
              "<torch._C.Generator at 0x7f73cacde4f0>"
            ]
          },
          "execution_count": 1,
          "metadata": {},
          "output_type": "execute_result"
        }
      ],
      "source": [
        "%matplotlib inline\n",
        "\n",
        "from matplotlib import pyplot as plt\n",
        "import numpy as np\n",
        "\n",
        "import torch\n",
        "import torch.nn as nn\n",
        "import torch.nn.functional as F\n",
        "import torch.optim as optim\n",
        "\n",
        "torch.set_printoptions(edgeitems=2)\n",
        "torch.manual_seed(42)"
      ]
    },
    {
      "cell_type": "code",
      "execution_count": 2,
      "metadata": {
        "colab": {
          "base_uri": "https://localhost:8080/"
        },
        "id": "6w2H_TddZHQx",
        "outputId": "2fededed-cf17-4cf7-e78b-5d55e9955ff5"
      },
      "outputs": [
        {
          "name": "stdout",
          "output_type": "stream",
          "text": [
            "Using CPU\n"
          ]
        }
      ],
      "source": [
        "if torch.cuda.is_available():\n",
        "    print('Using Pytorch with GPU acceleration')\n",
        "else:\n",
        "     print('Using CPU')"
      ]
    },
    {
      "cell_type": "code",
      "execution_count": 3,
      "metadata": {
        "colab": {
          "base_uri": "https://localhost:8080/",
          "height": 597
        },
        "id": "NZxVKeayV3V-",
        "outputId": "056ef800-ea96-4ed3-ddd9-da4f518eeaf4"
      },
      "outputs": [
        {
          "name": "stdout",
          "output_type": "stream",
          "text": [
            "<class 'pandas.core.frame.DataFrame'>\n",
            "RangeIndex: 4898 entries, 0 to 4897\n",
            "Data columns (total 12 columns):\n",
            " #   Column                Non-Null Count  Dtype  \n",
            "---  ------                --------------  -----  \n",
            " 0   fixed acidity         4898 non-null   float64\n",
            " 1   volatile acidity      4898 non-null   float64\n",
            " 2   citric acid           4898 non-null   float64\n",
            " 3   residual sugar        4898 non-null   float64\n",
            " 4   chlorides             4898 non-null   float64\n",
            " 5   free sulfur dioxide   4898 non-null   float64\n",
            " 6   total sulfur dioxide  4898 non-null   float64\n",
            " 7   density               4898 non-null   float64\n",
            " 8   pH                    4898 non-null   float64\n",
            " 9   sulphates             4898 non-null   float64\n",
            " 10  alcohol               4898 non-null   float64\n",
            " 11  quality               4898 non-null   int64  \n",
            "dtypes: float64(11), int64(1)\n",
            "memory usage: 459.3 KB\n"
          ]
        },
        {
          "data": {
            "text/html": [
              "\n",
              "  <div id=\"df-d446a00f-e4c5-4a7e-bd6c-29b8904da503\">\n",
              "    <div class=\"colab-df-container\">\n",
              "      <div>\n",
              "<style scoped>\n",
              "    .dataframe tbody tr th:only-of-type {\n",
              "        vertical-align: middle;\n",
              "    }\n",
              "\n",
              "    .dataframe tbody tr th {\n",
              "        vertical-align: top;\n",
              "    }\n",
              "\n",
              "    .dataframe thead th {\n",
              "        text-align: right;\n",
              "    }\n",
              "</style>\n",
              "<table border=\"1\" class=\"dataframe\">\n",
              "  <thead>\n",
              "    <tr style=\"text-align: right;\">\n",
              "      <th></th>\n",
              "      <th>fixed acidity</th>\n",
              "      <th>volatile acidity</th>\n",
              "      <th>citric acid</th>\n",
              "      <th>residual sugar</th>\n",
              "      <th>chlorides</th>\n",
              "      <th>free sulfur dioxide</th>\n",
              "      <th>total sulfur dioxide</th>\n",
              "      <th>density</th>\n",
              "      <th>pH</th>\n",
              "      <th>sulphates</th>\n",
              "      <th>alcohol</th>\n",
              "      <th>quality</th>\n",
              "    </tr>\n",
              "  </thead>\n",
              "  <tbody>\n",
              "    <tr>\n",
              "      <th>0</th>\n",
              "      <td>7.0</td>\n",
              "      <td>0.27</td>\n",
              "      <td>0.36</td>\n",
              "      <td>20.7</td>\n",
              "      <td>0.045</td>\n",
              "      <td>45.0</td>\n",
              "      <td>170.0</td>\n",
              "      <td>1.0010</td>\n",
              "      <td>3.00</td>\n",
              "      <td>0.45</td>\n",
              "      <td>8.8</td>\n",
              "      <td>6</td>\n",
              "    </tr>\n",
              "    <tr>\n",
              "      <th>1</th>\n",
              "      <td>6.3</td>\n",
              "      <td>0.30</td>\n",
              "      <td>0.34</td>\n",
              "      <td>1.6</td>\n",
              "      <td>0.049</td>\n",
              "      <td>14.0</td>\n",
              "      <td>132.0</td>\n",
              "      <td>0.9940</td>\n",
              "      <td>3.30</td>\n",
              "      <td>0.49</td>\n",
              "      <td>9.5</td>\n",
              "      <td>6</td>\n",
              "    </tr>\n",
              "    <tr>\n",
              "      <th>2</th>\n",
              "      <td>8.1</td>\n",
              "      <td>0.28</td>\n",
              "      <td>0.40</td>\n",
              "      <td>6.9</td>\n",
              "      <td>0.050</td>\n",
              "      <td>30.0</td>\n",
              "      <td>97.0</td>\n",
              "      <td>0.9951</td>\n",
              "      <td>3.26</td>\n",
              "      <td>0.44</td>\n",
              "      <td>10.1</td>\n",
              "      <td>6</td>\n",
              "    </tr>\n",
              "    <tr>\n",
              "      <th>3</th>\n",
              "      <td>7.2</td>\n",
              "      <td>0.23</td>\n",
              "      <td>0.32</td>\n",
              "      <td>8.5</td>\n",
              "      <td>0.058</td>\n",
              "      <td>47.0</td>\n",
              "      <td>186.0</td>\n",
              "      <td>0.9956</td>\n",
              "      <td>3.19</td>\n",
              "      <td>0.40</td>\n",
              "      <td>9.9</td>\n",
              "      <td>6</td>\n",
              "    </tr>\n",
              "    <tr>\n",
              "      <th>4</th>\n",
              "      <td>7.2</td>\n",
              "      <td>0.23</td>\n",
              "      <td>0.32</td>\n",
              "      <td>8.5</td>\n",
              "      <td>0.058</td>\n",
              "      <td>47.0</td>\n",
              "      <td>186.0</td>\n",
              "      <td>0.9956</td>\n",
              "      <td>3.19</td>\n",
              "      <td>0.40</td>\n",
              "      <td>9.9</td>\n",
              "      <td>6</td>\n",
              "    </tr>\n",
              "  </tbody>\n",
              "</table>\n",
              "</div>\n",
              "      <button class=\"colab-df-convert\" onclick=\"convertToInteractive('df-d446a00f-e4c5-4a7e-bd6c-29b8904da503')\"\n",
              "              title=\"Convert this dataframe to an interactive table.\"\n",
              "              style=\"display:none;\">\n",
              "        \n",
              "  <svg xmlns=\"http://www.w3.org/2000/svg\" height=\"24px\"viewBox=\"0 0 24 24\"\n",
              "       width=\"24px\">\n",
              "    <path d=\"M0 0h24v24H0V0z\" fill=\"none\"/>\n",
              "    <path d=\"M18.56 5.44l.94 2.06.94-2.06 2.06-.94-2.06-.94-.94-2.06-.94 2.06-2.06.94zm-11 1L8.5 8.5l.94-2.06 2.06-.94-2.06-.94L8.5 2.5l-.94 2.06-2.06.94zm10 10l.94 2.06.94-2.06 2.06-.94-2.06-.94-.94-2.06-.94 2.06-2.06.94z\"/><path d=\"M17.41 7.96l-1.37-1.37c-.4-.4-.92-.59-1.43-.59-.52 0-1.04.2-1.43.59L10.3 9.45l-7.72 7.72c-.78.78-.78 2.05 0 2.83L4 21.41c.39.39.9.59 1.41.59.51 0 1.02-.2 1.41-.59l7.78-7.78 2.81-2.81c.8-.78.8-2.07 0-2.86zM5.41 20L4 18.59l7.72-7.72 1.47 1.35L5.41 20z\"/>\n",
              "  </svg>\n",
              "      </button>\n",
              "      \n",
              "  <style>\n",
              "    .colab-df-container {\n",
              "      display:flex;\n",
              "      flex-wrap:wrap;\n",
              "      gap: 12px;\n",
              "    }\n",
              "\n",
              "    .colab-df-convert {\n",
              "      background-color: #E8F0FE;\n",
              "      border: none;\n",
              "      border-radius: 50%;\n",
              "      cursor: pointer;\n",
              "      display: none;\n",
              "      fill: #1967D2;\n",
              "      height: 32px;\n",
              "      padding: 0 0 0 0;\n",
              "      width: 32px;\n",
              "    }\n",
              "\n",
              "    .colab-df-convert:hover {\n",
              "      background-color: #E2EBFA;\n",
              "      box-shadow: 0px 1px 2px rgba(60, 64, 67, 0.3), 0px 1px 3px 1px rgba(60, 64, 67, 0.15);\n",
              "      fill: #174EA6;\n",
              "    }\n",
              "\n",
              "    [theme=dark] .colab-df-convert {\n",
              "      background-color: #3B4455;\n",
              "      fill: #D2E3FC;\n",
              "    }\n",
              "\n",
              "    [theme=dark] .colab-df-convert:hover {\n",
              "      background-color: #434B5C;\n",
              "      box-shadow: 0px 1px 3px 1px rgba(0, 0, 0, 0.15);\n",
              "      filter: drop-shadow(0px 1px 2px rgba(0, 0, 0, 0.3));\n",
              "      fill: #FFFFFF;\n",
              "    }\n",
              "  </style>\n",
              "\n",
              "      <script>\n",
              "        const buttonEl =\n",
              "          document.querySelector('#df-d446a00f-e4c5-4a7e-bd6c-29b8904da503 button.colab-df-convert');\n",
              "        buttonEl.style.display =\n",
              "          google.colab.kernel.accessAllowed ? 'block' : 'none';\n",
              "\n",
              "        async function convertToInteractive(key) {\n",
              "          const element = document.querySelector('#df-d446a00f-e4c5-4a7e-bd6c-29b8904da503');\n",
              "          const dataTable =\n",
              "            await google.colab.kernel.invokeFunction('convertToInteractive',\n",
              "                                                     [key], {});\n",
              "          if (!dataTable) return;\n",
              "\n",
              "          const docLinkHtml = 'Like what you see? Visit the ' +\n",
              "            '<a target=\"_blank\" href=https://colab.research.google.com/notebooks/data_table.ipynb>data table notebook</a>'\n",
              "            + ' to learn more about interactive tables.';\n",
              "          element.innerHTML = '';\n",
              "          dataTable['output_type'] = 'display_data';\n",
              "          await google.colab.output.renderOutput(dataTable, element);\n",
              "          const docLink = document.createElement('div');\n",
              "          docLink.innerHTML = docLinkHtml;\n",
              "          element.appendChild(docLink);\n",
              "        }\n",
              "      </script>\n",
              "    </div>\n",
              "  </div>\n",
              "  "
            ],
            "text/plain": [
              "   fixed acidity  volatile acidity  citric acid  residual sugar  chlorides  \\\n",
              "0            7.0              0.27         0.36            20.7      0.045   \n",
              "1            6.3              0.30         0.34             1.6      0.049   \n",
              "2            8.1              0.28         0.40             6.9      0.050   \n",
              "3            7.2              0.23         0.32             8.5      0.058   \n",
              "4            7.2              0.23         0.32             8.5      0.058   \n",
              "\n",
              "   free sulfur dioxide  total sulfur dioxide  density    pH  sulphates  \\\n",
              "0                 45.0                 170.0   1.0010  3.00       0.45   \n",
              "1                 14.0                 132.0   0.9940  3.30       0.49   \n",
              "2                 30.0                  97.0   0.9951  3.26       0.44   \n",
              "3                 47.0                 186.0   0.9956  3.19       0.40   \n",
              "4                 47.0                 186.0   0.9956  3.19       0.40   \n",
              "\n",
              "   alcohol  quality  \n",
              "0      8.8        6  \n",
              "1      9.5        6  \n",
              "2     10.1        6  \n",
              "3      9.9        6  \n",
              "4      9.9        6  "
            ]
          },
          "execution_count": 3,
          "metadata": {},
          "output_type": "execute_result"
        }
      ],
      "source": [
        "import pandas as pd\n",
        "\n",
        "url = 'https://raw.githubusercontent.com/deep-learning-with-pytorch/dlwpt-code/master/data/p1ch4/tabular-wine/winequality-white.csv'\n",
        "df = pd.read_csv(url, sep=';')\n",
        "\n",
        "df.info()\n",
        "df.head()"
      ]
    },
    {
      "cell_type": "code",
      "execution_count": 4,
      "metadata": {
        "colab": {
          "base_uri": "https://localhost:8080/"
        },
        "id": "eVm8z942X31P",
        "outputId": "d4556156-cb3b-4120-fdfa-b196b9dd5431"
      },
      "outputs": [
        {
          "data": {
            "text/plain": [
              "tensor([[0., 0.,  ..., 0., 0.],\n",
              "        [0., 0.,  ..., 0., 0.],\n",
              "        ...,\n",
              "        [0., 0.,  ..., 0., 0.],\n",
              "        [0., 0.,  ..., 0., 0.]])"
            ]
          },
          "execution_count": 4,
          "metadata": {},
          "output_type": "execute_result"
        }
      ],
      "source": [
        "# prepare data - 1\n",
        "\n",
        "# separate x and y\n",
        "x = df.drop('quality', axis = 1)\n",
        "x_norm = (x-x.min())/(x.max()-x.min())\n",
        "y = df.pop('quality')\n",
        "\n",
        "# obtain data tensors\n",
        "x_tens = torch.from_numpy(x_norm.values).float()\n",
        "\n",
        "# regression approach\n",
        "y_tens = torch.from_numpy(y.values).float().unsqueeze(-1)\n",
        "\n",
        "# classification approach\n",
        "y_tens_c = torch.zeros(y_tens.shape[0], 10)\n",
        "y_tens_c.scatter_(1, torch.from_numpy(y.values).unsqueeze(1), 1.0)"
      ]
    },
    {
      "cell_type": "code",
      "execution_count": 5,
      "metadata": {
        "colab": {
          "base_uri": "https://localhost:8080/"
        },
        "collapsed": true,
        "id": "LzWspYWHWMR9",
        "outputId": "cd7aaa37-da49-4ca3-b3a3-2afbbf1822c0"
      },
      "outputs": [
        {
          "name": "stdout",
          "output_type": "stream",
          "text": [
            " Train:\tx=torch.Size([3430, 11]), y=torch.Size([3430, 1])\n",
            " Valid:\tx=torch.Size([979, 11]), y=torch.Size([979, 1])\n",
            " Test:\tx=torch.Size([489, 11]), y=torch.Size([489, 1])\n"
          ]
        }
      ],
      "source": [
        "# prepare data - 2\n",
        "\n",
        "# train and validation indices\n",
        "n_samples = x_tens.shape[0]\n",
        "n_val = int(0.2 * n_samples)\n",
        "n_test = int(0.1 * n_samples)\n",
        "\n",
        "shuffled_indices = torch.randperm(n_samples)\n",
        "\n",
        "trainval_indices = shuffled_indices[:-n_test]\n",
        "test_indices = shuffled_indices[-n_test:]\n",
        "\n",
        "train_indices = trainval_indices[:-n_val]\n",
        "val_indices = trainval_indices[-n_val:]\n",
        "\n",
        "# data splitting\n",
        "train_x = x_tens[train_indices]\n",
        "train_y = y_tens[train_indices]\n",
        "train_y_c = y_tens_c[train_indices]\n",
        "\n",
        "val_x = x_tens[val_indices]\n",
        "val_y = y_tens[val_indices]\n",
        "val_y_c = y_tens_c[val_indices]\n",
        "\n",
        "test_x = x_tens[test_indices]\n",
        "test_y = y_tens[test_indices]\n",
        "test_y_c = y_tens_c[test_indices]\n",
        "\n",
        "print(f' Train:\\tx={train_x.shape}, y={train_y.shape}\\n',\n",
        "      f'Valid:\\tx={val_x.shape}, y={val_y.shape}\\n',\n",
        "      f'Test:\\tx={test_x.shape}, y={test_y.shape}')"
      ]
    },
    {
      "cell_type": "code",
      "execution_count": 6,
      "metadata": {
        "id": "sFJtDW06a4r9"
      },
      "outputs": [],
      "source": [
        "# training loop\n",
        "\n",
        "def training_loop(n_epochs, model, loss_fn, optimizer,\n",
        "                  train_x, train_y, val_x, val_y):\n",
        "    \n",
        "    for epoch in range(1, n_epochs+1):\n",
        "        \n",
        "        train_preds = model(train_x)\n",
        "        train_loss = loss_fn(train_preds, train_y)\n",
        "\n",
        "        with torch.no_grad():\n",
        "            val_preds = model(val_x)\n",
        "            val_loss = loss_fn(val_preds, val_y)\n",
        "\n",
        "        optimizer.zero_grad()\n",
        "        train_loss.backward()\n",
        "        optimizer.step()\n",
        "\n",
        "        if epoch <= 3 or epoch % 500 == 0:\n",
        "            print(f\"Epoch {epoch:>4d}\\tTraining loss {train_loss.item():.4f}\\tValidation loss {val_loss.item():.4f}\")"
      ]
    },
    {
      "cell_type": "code",
      "execution_count": 7,
      "metadata": {
        "id": "lld_NSTwZ9Fx"
      },
      "outputs": [],
      "source": [
        "# define models\n",
        "\n",
        "# linear model\n",
        "model_1 = nn.Linear(11, 1)\n",
        "\n",
        "# nnet for regression\n",
        "model_2 = nn.Sequential(\n",
        "    nn.Linear(11, 32),\n",
        "    nn.ReLU(),\n",
        "    nn.Linear(32, 16),\n",
        "    nn.ReLU(),\n",
        "    nn.Linear(16, 1)\n",
        "    )\n",
        "\n",
        "# nnet for classifiation\n",
        "model_3 = nn.Sequential(\n",
        "    nn.Linear(11, 32),\n",
        "    nn.ReLU(),\n",
        "    nn.Linear(32, 16),\n",
        "    nn.ReLU(),\n",
        "    nn.Linear(16, 10)\n",
        "    )\n",
        "\n",
        "# utils\n",
        "metrics = dict()\n",
        "error_func = nn.MSELoss()"
      ]
    },
    {
      "cell_type": "code",
      "execution_count": 8,
      "metadata": {
        "colab": {
          "base_uri": "https://localhost:8080/"
        },
        "id": "h8KVUlnycn0a",
        "outputId": "e2fef486-be29-4d6d-ec69-c407ac110346"
      },
      "outputs": [
        {
          "name": "stdout",
          "output_type": "stream",
          "text": [
            "Epoch    1\tTraining loss 33.6267\tValidation loss 32.8758\n",
            "Epoch    2\tTraining loss 33.2177\tValidation loss 32.4710\n",
            "Epoch    3\tTraining loss 32.8114\tValidation loss 32.0689\n",
            "Epoch  500\tTraining loss 0.9561\tValidation loss 0.8980\n",
            "Epoch 1000\tTraining loss 0.8381\tValidation loss 0.8021\n",
            "Epoch 1500\tTraining loss 0.7640\tValidation loss 0.7416\n",
            "Epoch 2000\tTraining loss 0.7169\tValidation loss 0.6990\n",
            "Epoch 2500\tTraining loss 0.6826\tValidation loss 0.6648\n",
            "Epoch 3000\tTraining loss 0.6565\tValidation loss 0.6380\n",
            "Epoch 3500\tTraining loss 0.6361\tValidation loss 0.6172\n",
            "Epoch 4000\tTraining loss 0.6197\tValidation loss 0.6005\n",
            "Epoch 4500\tTraining loss 0.6066\tValidation loss 0.5868\n",
            "Epoch 5000\tTraining loss 0.5966\tValidation loss 0.5761\n"
          ]
        }
      ],
      "source": [
        "# training\n",
        "training_loop(\n",
        "    n_epochs = 5000,\n",
        "    model = model_1,\n",
        "    loss_fn = nn.MSELoss(),\n",
        "    optimizer = optim.Adam(model_1.parameters(), lr=1e-2),\n",
        "    train_x = train_x, train_y = train_y,\n",
        "    val_x = val_x, val_y = val_y,\n",
        ")"
      ]
    },
    {
      "cell_type": "code",
      "execution_count": 9,
      "metadata": {
        "id": "sqVcnNjOwQI_"
      },
      "outputs": [],
      "source": [
        "metrics['linear'] = error_func(model_1(test_x), test_y).item()"
      ]
    },
    {
      "cell_type": "code",
      "execution_count": 10,
      "metadata": {
        "colab": {
          "base_uri": "https://localhost:8080/"
        },
        "id": "n74612kJwAqV",
        "outputId": "aeec274a-fff8-4af6-ef50-b9f98c892fa8"
      },
      "outputs": [
        {
          "name": "stdout",
          "output_type": "stream",
          "text": [
            "Epoch    1\tTraining loss 37.7217\tValidation loss 36.9344\n",
            "Epoch    2\tTraining loss 36.5683\tValidation loss 35.7956\n",
            "Epoch    3\tTraining loss 35.3890\tValidation loss 34.6304\n",
            "Epoch  500\tTraining loss 0.5994\tValidation loss 0.5780\n",
            "Epoch 1000\tTraining loss 0.5769\tValidation loss 0.5525\n",
            "Epoch 1500\tTraining loss 0.5609\tValidation loss 0.5346\n",
            "Epoch 2000\tTraining loss 0.5508\tValidation loss 0.5253\n",
            "Epoch 2500\tTraining loss 0.5458\tValidation loss 0.5189\n",
            "Epoch 3000\tTraining loss 0.5445\tValidation loss 0.5194\n",
            "Epoch 3500\tTraining loss 0.5275\tValidation loss 0.5119\n",
            "Epoch 4000\tTraining loss 0.5091\tValidation loss 0.4821\n",
            "Epoch 4500\tTraining loss 0.5038\tValidation loss 0.4787\n",
            "Epoch 5000\tTraining loss 0.4945\tValidation loss 0.4832\n"
          ]
        }
      ],
      "source": [
        "# training\n",
        "training_loop(\n",
        "    n_epochs = 5000,\n",
        "    model = model_2,\n",
        "    loss_fn = nn.MSELoss(),\n",
        "    optimizer = optim.Adam(model_2.parameters(), lr=1e-2),\n",
        "    train_x = train_x, train_y = train_y,\n",
        "    val_x = val_x, val_y = val_y,\n",
        ")"
      ]
    },
    {
      "cell_type": "code",
      "execution_count": 11,
      "metadata": {
        "id": "M6hcCLqhyKL-"
      },
      "outputs": [],
      "source": [
        "metrics['nnet_reg'] = error_func(model_2(test_x), test_y).item()"
      ]
    },
    {
      "cell_type": "code",
      "execution_count": 12,
      "metadata": {
        "colab": {
          "base_uri": "https://localhost:8080/"
        },
        "id": "2BYaTTyg4zf6",
        "outputId": "bb7b717b-2394-4125-b4d3-f1cce8538371"
      },
      "outputs": [
        {
          "name": "stdout",
          "output_type": "stream",
          "text": [
            "Epoch    1\tTraining loss 2.3402\tValidation loss 2.3328\n",
            "Epoch    2\tTraining loss 1.7186\tValidation loss 1.6889\n",
            "Epoch    3\tTraining loss 1.4455\tValidation loss 1.3663\n",
            "Epoch  500\tTraining loss 1.0418\tValidation loss 1.0199\n",
            "Epoch 1000\tTraining loss 1.0278\tValidation loss 1.0232\n",
            "Epoch 1500\tTraining loss 1.0301\tValidation loss 1.0463\n",
            "Epoch 2000\tTraining loss 1.0277\tValidation loss 1.0593\n",
            "Epoch 2500\tTraining loss 1.0185\tValidation loss 1.0480\n",
            "Epoch 3000\tTraining loss 1.0246\tValidation loss 1.0527\n",
            "Epoch 3500\tTraining loss 1.0132\tValidation loss 1.0477\n",
            "Epoch 4000\tTraining loss 1.0129\tValidation loss 1.0521\n",
            "Epoch 4500\tTraining loss 1.0127\tValidation loss 1.0511\n",
            "Epoch 5000\tTraining loss 1.0297\tValidation loss 1.0423\n"
          ]
        }
      ],
      "source": [
        "# training\n",
        "training_loop(\n",
        "    n_epochs = 5000,\n",
        "    model = model_3,\n",
        "    loss_fn = nn.CrossEntropyLoss(),\n",
        "    optimizer = optim.Adam(model_3.parameters(), lr=1e-1),\n",
        "    train_x = train_x, train_y = train_y_c,\n",
        "    val_x = val_x, val_y = val_y_c,\n",
        ")"
      ]
    },
    {
      "cell_type": "code",
      "execution_count": 13,
      "metadata": {
        "id": "wkAk2MAi40NM"
      },
      "outputs": [],
      "source": [
        "_, preds_3 =torch.max(model_3(test_x), dim=1)\n",
        "preds_3 = preds_3.unsqueeze(1)\n",
        "metrics['nnet_clf'] = error_func(preds_3, test_y).item()"
      ]
    },
    {
      "cell_type": "code",
      "execution_count": 14,
      "metadata": {
        "colab": {
          "base_uri": "https://localhost:8080/"
        },
        "id": "hZCaI4m1dbVn",
        "outputId": "c54b7770-0cbe-496f-ba2f-c831904c13d6"
      },
      "outputs": [
        {
          "name": "stdout",
          "output_type": "stream",
          "text": [
            "Test set metrics:\n",
            "Model: linear\trmse: 0.7198\n",
            "Model: nnet_reg\trmse: 0.6653\n",
            "Model: nnet_clf\trmse: 0.7540\n"
          ]
        }
      ],
      "source": [
        "# results\n",
        "print(f'Test set metrics:')\n",
        "for k, v in metrics.items():\n",
        "    print(f'Model: {k}\\trmse: {np.sqrt(v):.4f}')"
      ]
    }
  ],
  "metadata": {
    "colab": {
      "collapsed_sections": [],
      "provenance": []
    },
    "kernelspec": {
      "display_name": "Python 3.10.5 64-bit",
      "language": "python",
      "name": "python3"
    },
    "language_info": {
      "name": "python",
      "version": "3.10.5"
    },
    "vscode": {
      "interpreter": {
        "hash": "369f2c481f4da34e4445cda3fffd2e751bd1c4d706f27375911949ba6bb62e1c"
      }
    }
  },
  "nbformat": 4,
  "nbformat_minor": 0
}
